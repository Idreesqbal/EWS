{
 "cells": [
  {
   "cell_type": "code",
   "execution_count": 1,
   "metadata": {},
   "outputs": [],
   "source": [
    "import pandas as pd\n",
    "import numpy as np\n",
    "import matplotlib.pyplot as plt\n",
    "%matplotlib inline"
   ]
  },
  {
   "cell_type": "code",
   "execution_count": 2,
   "metadata": {},
   "outputs": [],
   "source": [
    "df = pd.read_csv('20200124_ews_observations.csv',sep=',',low_memory=False)"
   ]
  },
  {
   "cell_type": "code",
   "execution_count": 3,
   "metadata": {},
   "outputs": [
    {
     "data": {
      "text/html": [
       "<div>\n",
       "<style scoped>\n",
       "    .dataframe tbody tr th:only-of-type {\n",
       "        vertical-align: middle;\n",
       "    }\n",
       "\n",
       "    .dataframe tbody tr th {\n",
       "        vertical-align: top;\n",
       "    }\n",
       "\n",
       "    .dataframe thead th {\n",
       "        text-align: right;\n",
       "    }\n",
       "</style>\n",
       "<table border=\"1\" class=\"dataframe\">\n",
       "  <thead>\n",
       "    <tr style=\"text-align: right;\">\n",
       "      <th></th>\n",
       "      <th>PatientId</th>\n",
       "      <th>ObservationDate</th>\n",
       "      <th>EwsProcedure</th>\n",
       "      <th>EWS_Total</th>\n",
       "      <th>SBP</th>\n",
       "      <th>SBP_Score</th>\n",
       "      <th>LOC</th>\n",
       "      <th>LOC_Score</th>\n",
       "      <th>SpO2</th>\n",
       "      <th>SpO2_Score</th>\n",
       "      <th>Add_O2</th>\n",
       "      <th>Add_O2_Score</th>\n",
       "      <th>HR</th>\n",
       "      <th>HR_Score</th>\n",
       "      <th>RR</th>\n",
       "      <th>RR_Score</th>\n",
       "      <th>TEMP</th>\n",
       "      <th>TEMP_Score</th>\n",
       "    </tr>\n",
       "  </thead>\n",
       "  <tbody>\n",
       "    <tr>\n",
       "      <th>0</th>\n",
       "      <td>29</td>\n",
       "      <td>2019-05-01 13:27:50.0000000</td>\n",
       "      <td>NEWS2</td>\n",
       "      <td>0</td>\n",
       "      <td>143.0</td>\n",
       "      <td>0.0</td>\n",
       "      <td>ALERT</td>\n",
       "      <td>0</td>\n",
       "      <td>96.0</td>\n",
       "      <td>0.0</td>\n",
       "      <td>False</td>\n",
       "      <td>0.0</td>\n",
       "      <td>80</td>\n",
       "      <td>0</td>\n",
       "      <td>18</td>\n",
       "      <td>0</td>\n",
       "      <td>36.6</td>\n",
       "      <td>0</td>\n",
       "    </tr>\n",
       "    <tr>\n",
       "      <th>1</th>\n",
       "      <td>30</td>\n",
       "      <td>2019-05-01 15:27:44.0000000</td>\n",
       "      <td>NEWS2</td>\n",
       "      <td>3</td>\n",
       "      <td>NaN</td>\n",
       "      <td>NaN</td>\n",
       "      <td>ALERT</td>\n",
       "      <td>0</td>\n",
       "      <td>94.0</td>\n",
       "      <td>1.0</td>\n",
       "      <td>False</td>\n",
       "      <td>0.0</td>\n",
       "      <td>83</td>\n",
       "      <td>0</td>\n",
       "      <td>16</td>\n",
       "      <td>0</td>\n",
       "      <td>36.5</td>\n",
       "      <td>0</td>\n",
       "    </tr>\n",
       "    <tr>\n",
       "      <th>2</th>\n",
       "      <td>31</td>\n",
       "      <td>2019-05-01 15:54:27.0000000</td>\n",
       "      <td>NEWS2</td>\n",
       "      <td>1</td>\n",
       "      <td>117.0</td>\n",
       "      <td>0.0</td>\n",
       "      <td>ALERT</td>\n",
       "      <td>0</td>\n",
       "      <td>95.0</td>\n",
       "      <td>1.0</td>\n",
       "      <td>False</td>\n",
       "      <td>0.0</td>\n",
       "      <td>75</td>\n",
       "      <td>0</td>\n",
       "      <td>14</td>\n",
       "      <td>0</td>\n",
       "      <td>37.3</td>\n",
       "      <td>0</td>\n",
       "    </tr>\n",
       "    <tr>\n",
       "      <th>3</th>\n",
       "      <td>32</td>\n",
       "      <td>2019-05-01 16:07:27.0000000</td>\n",
       "      <td>NEWS2</td>\n",
       "      <td>0</td>\n",
       "      <td>NaN</td>\n",
       "      <td>NaN</td>\n",
       "      <td>ALERT</td>\n",
       "      <td>0</td>\n",
       "      <td>98.0</td>\n",
       "      <td>0.0</td>\n",
       "      <td>False</td>\n",
       "      <td>0.0</td>\n",
       "      <td>85</td>\n",
       "      <td>0</td>\n",
       "      <td>19</td>\n",
       "      <td>0</td>\n",
       "      <td>37.2</td>\n",
       "      <td>0</td>\n",
       "    </tr>\n",
       "    <tr>\n",
       "      <th>4</th>\n",
       "      <td>33</td>\n",
       "      <td>2019-05-01 17:03:16.0000000</td>\n",
       "      <td>NEWS2</td>\n",
       "      <td>0</td>\n",
       "      <td>135.0</td>\n",
       "      <td>0.0</td>\n",
       "      <td>ALERT</td>\n",
       "      <td>0</td>\n",
       "      <td>97.0</td>\n",
       "      <td>0.0</td>\n",
       "      <td>False</td>\n",
       "      <td>0.0</td>\n",
       "      <td>89</td>\n",
       "      <td>0</td>\n",
       "      <td>14</td>\n",
       "      <td>0</td>\n",
       "      <td>36.1</td>\n",
       "      <td>0</td>\n",
       "    </tr>\n",
       "  </tbody>\n",
       "</table>\n",
       "</div>"
      ],
      "text/plain": [
       "   PatientId              ObservationDate EwsProcedure  EWS_Total    SBP  \\\n",
       "0         29  2019-05-01 13:27:50.0000000        NEWS2          0  143.0   \n",
       "1         30  2019-05-01 15:27:44.0000000        NEWS2          3    NaN   \n",
       "2         31  2019-05-01 15:54:27.0000000        NEWS2          1  117.0   \n",
       "3         32  2019-05-01 16:07:27.0000000        NEWS2          0    NaN   \n",
       "4         33  2019-05-01 17:03:16.0000000        NEWS2          0  135.0   \n",
       "\n",
       "   SBP_Score    LOC  LOC_Score  SpO2  SpO2_Score Add_O2  Add_O2_Score  HR  \\\n",
       "0        0.0  ALERT          0  96.0         0.0  False           0.0  80   \n",
       "1        NaN  ALERT          0  94.0         1.0  False           0.0  83   \n",
       "2        0.0  ALERT          0  95.0         1.0  False           0.0  75   \n",
       "3        NaN  ALERT          0  98.0         0.0  False           0.0  85   \n",
       "4        0.0  ALERT          0  97.0         0.0  False           0.0  89   \n",
       "\n",
       "   HR_Score  RR  RR_Score  TEMP  TEMP_Score  \n",
       "0         0  18         0  36.6           0  \n",
       "1         0  16         0  36.5           0  \n",
       "2         0  14         0  37.3           0  \n",
       "3         0  19         0  37.2           0  \n",
       "4         0  14         0  36.1           0  "
      ]
     },
     "execution_count": 3,
     "metadata": {},
     "output_type": "execute_result"
    }
   ],
   "source": [
    "df.head()"
   ]
  },
  {
   "cell_type": "code",
   "execution_count": 4,
   "metadata": {
    "scrolled": true
   },
   "outputs": [
    {
     "name": "stdout",
     "output_type": "stream",
     "text": [
      "<class 'pandas.core.frame.DataFrame'>\n",
      "RangeIndex: 171736 entries, 0 to 171735\n",
      "Data columns (total 18 columns):\n",
      " #   Column           Non-Null Count   Dtype  \n",
      "---  ------           --------------   -----  \n",
      " 0   PatientId        171736 non-null  int64  \n",
      " 1   ObservationDate  171736 non-null  object \n",
      " 2   EwsProcedure     171736 non-null  object \n",
      " 3   EWS_Total        171736 non-null  int64  \n",
      " 4   SBP              160949 non-null  float64\n",
      " 5   SBP_Score        160949 non-null  float64\n",
      " 6   LOC              171736 non-null  object \n",
      " 7   LOC_Score        171736 non-null  int64  \n",
      " 8   SpO2             171734 non-null  float64\n",
      " 9   SpO2_Score       171734 non-null  float64\n",
      " 10  Add_O2           171734 non-null  object \n",
      " 11  Add_O2_Score     171734 non-null  float64\n",
      " 12  HR               171736 non-null  int64  \n",
      " 13  HR_Score         171736 non-null  int64  \n",
      " 14  RR               171736 non-null  int64  \n",
      " 15  RR_Score         171736 non-null  int64  \n",
      " 16  TEMP             171736 non-null  float64\n",
      " 17  TEMP_Score       171736 non-null  int64  \n",
      "dtypes: float64(6), int64(8), object(4)\n",
      "memory usage: 23.6+ MB\n"
     ]
    }
   ],
   "source": [
    "df.info()"
   ]
  },
  {
   "cell_type": "code",
   "execution_count": 5,
   "metadata": {},
   "outputs": [
    {
     "data": {
      "text/plain": [
       "array(['ALERT', 'UNRESPONSIVE', 'NEW_CONFUSION', 'VOICE', 'PAIN'],\n",
       "      dtype=object)"
      ]
     },
     "execution_count": 5,
     "metadata": {},
     "output_type": "execute_result"
    }
   ],
   "source": [
    "df['LOC'].unique()"
   ]
  },
  {
   "cell_type": "code",
   "execution_count": 6,
   "metadata": {},
   "outputs": [
    {
     "data": {
      "text/plain": [
       "PatientId              0\n",
       "ObservationDate        0\n",
       "EwsProcedure           0\n",
       "EWS_Total              0\n",
       "SBP                10787\n",
       "SBP_Score          10787\n",
       "LOC                    0\n",
       "LOC_Score              0\n",
       "SpO2                   2\n",
       "SpO2_Score             2\n",
       "Add_O2                 2\n",
       "Add_O2_Score           2\n",
       "HR                     0\n",
       "HR_Score               0\n",
       "RR                     0\n",
       "RR_Score               0\n",
       "TEMP                   0\n",
       "TEMP_Score             0\n",
       "dtype: int64"
      ]
     },
     "execution_count": 6,
     "metadata": {},
     "output_type": "execute_result"
    }
   ],
   "source": [
    "df.isnull().sum()"
   ]
  },
  {
   "cell_type": "code",
   "execution_count": 7,
   "metadata": {},
   "outputs": [],
   "source": [
    "df.dropna(axis=0,inplace=True)"
   ]
  },
  {
   "cell_type": "code",
   "execution_count": 8,
   "metadata": {},
   "outputs": [
    {
     "data": {
      "text/plain": [
       "PatientId          0\n",
       "ObservationDate    0\n",
       "EwsProcedure       0\n",
       "EWS_Total          0\n",
       "SBP                0\n",
       "SBP_Score          0\n",
       "LOC                0\n",
       "LOC_Score          0\n",
       "SpO2               0\n",
       "SpO2_Score         0\n",
       "Add_O2             0\n",
       "Add_O2_Score       0\n",
       "HR                 0\n",
       "HR_Score           0\n",
       "RR                 0\n",
       "RR_Score           0\n",
       "TEMP               0\n",
       "TEMP_Score         0\n",
       "dtype: int64"
      ]
     },
     "execution_count": 8,
     "metadata": {},
     "output_type": "execute_result"
    }
   ],
   "source": [
    "df.isnull().sum()"
   ]
  },
  {
   "cell_type": "code",
   "execution_count": 9,
   "metadata": {},
   "outputs": [
    {
     "data": {
      "text/plain": [
       "Index(['PatientId', 'ObservationDate', 'EwsProcedure', 'EWS_Total', 'SBP',\n",
       "       'SBP_Score', 'LOC', 'LOC_Score', 'SpO2', 'SpO2_Score', 'Add_O2',\n",
       "       'Add_O2_Score', 'HR', 'HR_Score', 'RR', 'RR_Score', 'TEMP',\n",
       "       'TEMP_Score'],\n",
       "      dtype='object')"
      ]
     },
     "execution_count": 9,
     "metadata": {},
     "output_type": "execute_result"
    }
   ],
   "source": [
    "df.columns"
   ]
  },
  {
   "cell_type": "code",
   "execution_count": 12,
   "metadata": {},
   "outputs": [],
   "source": [
    "x = df[['SBP',\n",
    "       'LOC','SpO2',\n",
    "       'HR','RR', 'TEMP']]"
   ]
  },
  {
   "cell_type": "code",
   "execution_count": 13,
   "metadata": {},
   "outputs": [],
   "source": [
    "y = df[['EWS_Total']]"
   ]
  },
  {
   "cell_type": "code",
   "execution_count": 14,
   "metadata": {},
   "outputs": [],
   "source": [
    "from sklearn.compose import ColumnTransformer\n",
    "from sklearn.preprocessing import OneHotEncoder"
   ]
  },
  {
   "cell_type": "code",
   "execution_count": null,
   "metadata": {},
   "outputs": [],
   "source": []
  }
 ],
 "metadata": {
  "kernelspec": {
   "display_name": "Python 3",
   "language": "python",
   "name": "python3"
  },
  "language_info": {
   "codemirror_mode": {
    "name": "ipython",
    "version": 3
   },
   "file_extension": ".py",
   "mimetype": "text/x-python",
   "name": "python",
   "nbconvert_exporter": "python",
   "pygments_lexer": "ipython3",
   "version": "3.8.6"
  }
 },
 "nbformat": 4,
 "nbformat_minor": 4
}
