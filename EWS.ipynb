{
 "cells": [
  {
   "cell_type": "code",
   "execution_count": 1,
   "metadata": {},
   "outputs": [],
   "source": [
    "import pandas as pd\n",
    "import numpy as np\n",
    "import matplotlib.pyplot as plt\n",
    "%matplotlib inline"
   ]
  },
  {
   "cell_type": "code",
   "execution_count": 2,
   "metadata": {},
   "outputs": [],
   "source": [
    "df = pd.read_csv('20200124_ews_observations.csv',sep=',',low_memory=False)"
   ]
  },
  {
   "cell_type": "code",
   "execution_count": 3,
   "metadata": {},
   "outputs": [
    {
     "data": {
      "text/html": [
       "<div>\n",
       "<style scoped>\n",
       "    .dataframe tbody tr th:only-of-type {\n",
       "        vertical-align: middle;\n",
       "    }\n",
       "\n",
       "    .dataframe tbody tr th {\n",
       "        vertical-align: top;\n",
       "    }\n",
       "\n",
       "    .dataframe thead th {\n",
       "        text-align: right;\n",
       "    }\n",
       "</style>\n",
       "<table border=\"1\" class=\"dataframe\">\n",
       "  <thead>\n",
       "    <tr style=\"text-align: right;\">\n",
       "      <th></th>\n",
       "      <th>PatientId</th>\n",
       "      <th>ObservationDate</th>\n",
       "      <th>EwsProcedure</th>\n",
       "      <th>EWS_Total</th>\n",
       "      <th>SBP</th>\n",
       "      <th>SBP_Score</th>\n",
       "      <th>LOC</th>\n",
       "      <th>LOC_Score</th>\n",
       "      <th>SpO2</th>\n",
       "      <th>SpO2_Score</th>\n",
       "      <th>Add_O2</th>\n",
       "      <th>Add_O2_Score</th>\n",
       "      <th>HR</th>\n",
       "      <th>HR_Score</th>\n",
       "      <th>RR</th>\n",
       "      <th>RR_Score</th>\n",
       "      <th>TEMP</th>\n",
       "      <th>TEMP_Score</th>\n",
       "    </tr>\n",
       "  </thead>\n",
       "  <tbody>\n",
       "    <tr>\n",
       "      <th>0</th>\n",
       "      <td>29</td>\n",
       "      <td>2019-05-01 13:27:50.0000000</td>\n",
       "      <td>NEWS2</td>\n",
       "      <td>0</td>\n",
       "      <td>143.0</td>\n",
       "      <td>0.0</td>\n",
       "      <td>ALERT</td>\n",
       "      <td>0</td>\n",
       "      <td>96.0</td>\n",
       "      <td>0.0</td>\n",
       "      <td>False</td>\n",
       "      <td>0.0</td>\n",
       "      <td>80</td>\n",
       "      <td>0</td>\n",
       "      <td>18</td>\n",
       "      <td>0</td>\n",
       "      <td>36.6</td>\n",
       "      <td>0</td>\n",
       "    </tr>\n",
       "    <tr>\n",
       "      <th>1</th>\n",
       "      <td>30</td>\n",
       "      <td>2019-05-01 15:27:44.0000000</td>\n",
       "      <td>NEWS2</td>\n",
       "      <td>3</td>\n",
       "      <td>NaN</td>\n",
       "      <td>NaN</td>\n",
       "      <td>ALERT</td>\n",
       "      <td>0</td>\n",
       "      <td>94.0</td>\n",
       "      <td>1.0</td>\n",
       "      <td>False</td>\n",
       "      <td>0.0</td>\n",
       "      <td>83</td>\n",
       "      <td>0</td>\n",
       "      <td>16</td>\n",
       "      <td>0</td>\n",
       "      <td>36.5</td>\n",
       "      <td>0</td>\n",
       "    </tr>\n",
       "    <tr>\n",
       "      <th>2</th>\n",
       "      <td>31</td>\n",
       "      <td>2019-05-01 15:54:27.0000000</td>\n",
       "      <td>NEWS2</td>\n",
       "      <td>1</td>\n",
       "      <td>117.0</td>\n",
       "      <td>0.0</td>\n",
       "      <td>ALERT</td>\n",
       "      <td>0</td>\n",
       "      <td>95.0</td>\n",
       "      <td>1.0</td>\n",
       "      <td>False</td>\n",
       "      <td>0.0</td>\n",
       "      <td>75</td>\n",
       "      <td>0</td>\n",
       "      <td>14</td>\n",
       "      <td>0</td>\n",
       "      <td>37.3</td>\n",
       "      <td>0</td>\n",
       "    </tr>\n",
       "    <tr>\n",
       "      <th>3</th>\n",
       "      <td>32</td>\n",
       "      <td>2019-05-01 16:07:27.0000000</td>\n",
       "      <td>NEWS2</td>\n",
       "      <td>0</td>\n",
       "      <td>NaN</td>\n",
       "      <td>NaN</td>\n",
       "      <td>ALERT</td>\n",
       "      <td>0</td>\n",
       "      <td>98.0</td>\n",
       "      <td>0.0</td>\n",
       "      <td>False</td>\n",
       "      <td>0.0</td>\n",
       "      <td>85</td>\n",
       "      <td>0</td>\n",
       "      <td>19</td>\n",
       "      <td>0</td>\n",
       "      <td>37.2</td>\n",
       "      <td>0</td>\n",
       "    </tr>\n",
       "    <tr>\n",
       "      <th>4</th>\n",
       "      <td>33</td>\n",
       "      <td>2019-05-01 17:03:16.0000000</td>\n",
       "      <td>NEWS2</td>\n",
       "      <td>0</td>\n",
       "      <td>135.0</td>\n",
       "      <td>0.0</td>\n",
       "      <td>ALERT</td>\n",
       "      <td>0</td>\n",
       "      <td>97.0</td>\n",
       "      <td>0.0</td>\n",
       "      <td>False</td>\n",
       "      <td>0.0</td>\n",
       "      <td>89</td>\n",
       "      <td>0</td>\n",
       "      <td>14</td>\n",
       "      <td>0</td>\n",
       "      <td>36.1</td>\n",
       "      <td>0</td>\n",
       "    </tr>\n",
       "  </tbody>\n",
       "</table>\n",
       "</div>"
      ],
      "text/plain": [
       "   PatientId              ObservationDate EwsProcedure  EWS_Total    SBP  \\\n",
       "0         29  2019-05-01 13:27:50.0000000        NEWS2          0  143.0   \n",
       "1         30  2019-05-01 15:27:44.0000000        NEWS2          3    NaN   \n",
       "2         31  2019-05-01 15:54:27.0000000        NEWS2          1  117.0   \n",
       "3         32  2019-05-01 16:07:27.0000000        NEWS2          0    NaN   \n",
       "4         33  2019-05-01 17:03:16.0000000        NEWS2          0  135.0   \n",
       "\n",
       "   SBP_Score    LOC  LOC_Score  SpO2  SpO2_Score Add_O2  Add_O2_Score  HR  \\\n",
       "0        0.0  ALERT          0  96.0         0.0  False           0.0  80   \n",
       "1        NaN  ALERT          0  94.0         1.0  False           0.0  83   \n",
       "2        0.0  ALERT          0  95.0         1.0  False           0.0  75   \n",
       "3        NaN  ALERT          0  98.0         0.0  False           0.0  85   \n",
       "4        0.0  ALERT          0  97.0         0.0  False           0.0  89   \n",
       "\n",
       "   HR_Score  RR  RR_Score  TEMP  TEMP_Score  \n",
       "0         0  18         0  36.6           0  \n",
       "1         0  16         0  36.5           0  \n",
       "2         0  14         0  37.3           0  \n",
       "3         0  19         0  37.2           0  \n",
       "4         0  14         0  36.1           0  "
      ]
     },
     "execution_count": 3,
     "metadata": {},
     "output_type": "execute_result"
    }
   ],
   "source": [
    "df.head()"
   ]
  },
  {
   "cell_type": "code",
   "execution_count": 4,
   "metadata": {
    "scrolled": true
   },
   "outputs": [
    {
     "name": "stdout",
     "output_type": "stream",
     "text": [
      "<class 'pandas.core.frame.DataFrame'>\n",
      "RangeIndex: 171736 entries, 0 to 171735\n",
      "Data columns (total 18 columns):\n",
      " #   Column           Non-Null Count   Dtype  \n",
      "---  ------           --------------   -----  \n",
      " 0   PatientId        171736 non-null  int64  \n",
      " 1   ObservationDate  171736 non-null  object \n",
      " 2   EwsProcedure     171736 non-null  object \n",
      " 3   EWS_Total        171736 non-null  int64  \n",
      " 4   SBP              160949 non-null  float64\n",
      " 5   SBP_Score        160949 non-null  float64\n",
      " 6   LOC              171736 non-null  object \n",
      " 7   LOC_Score        171736 non-null  int64  \n",
      " 8   SpO2             171734 non-null  float64\n",
      " 9   SpO2_Score       171734 non-null  float64\n",
      " 10  Add_O2           171734 non-null  object \n",
      " 11  Add_O2_Score     171734 non-null  float64\n",
      " 12  HR               171736 non-null  int64  \n",
      " 13  HR_Score         171736 non-null  int64  \n",
      " 14  RR               171736 non-null  int64  \n",
      " 15  RR_Score         171736 non-null  int64  \n",
      " 16  TEMP             171736 non-null  float64\n",
      " 17  TEMP_Score       171736 non-null  int64  \n",
      "dtypes: float64(6), int64(8), object(4)\n",
      "memory usage: 23.6+ MB\n"
     ]
    }
   ],
   "source": [
    "df.info()"
   ]
  },
  {
   "cell_type": "code",
   "execution_count": 5,
   "metadata": {},
   "outputs": [],
   "source": [
    "df = df.drop('PatientId',axis=1)"
   ]
  },
  {
   "cell_type": "code",
   "execution_count": 6,
   "metadata": {},
   "outputs": [
    {
     "data": {
      "text/plain": [
       "EWS_Total         1.929537\n",
       "SBP             120.688665\n",
       "SBP_Score         0.499096\n",
       "LOC_Score         0.011477\n",
       "SpO2             95.947407\n",
       "SpO2_Score        0.355928\n",
       "Add_O2            0.208212\n",
       "Add_O2_Score      0.416423\n",
       "HR               79.758921\n",
       "HR_Score          0.320253\n",
       "RR               17.263102\n",
       "RR_Score          0.245167\n",
       "TEMP             36.642783\n",
       "TEMP_Score        0.083628\n",
       "dtype: float64"
      ]
     },
     "execution_count": 6,
     "metadata": {},
     "output_type": "execute_result"
    }
   ],
   "source": [
    "df.mean()"
   ]
  },
  {
   "cell_type": "code",
   "execution_count": 7,
   "metadata": {},
   "outputs": [
    {
     "data": {
      "text/plain": [
       "EWS_Total        1.890388\n",
       "SBP             19.599943\n",
       "SBP_Score        0.813013\n",
       "LOC_Score        0.185201\n",
       "SpO2             3.777995\n",
       "SpO2_Score       0.690071\n",
       "Add_O2           0.406030\n",
       "Add_O2_Score     0.812060\n",
       "HR              17.467517\n",
       "HR_Score         0.600285\n",
       "RR               3.364965\n",
       "RR_Score         0.693101\n",
       "TEMP             0.525958\n",
       "TEMP_Score       0.284159\n",
       "dtype: float64"
      ]
     },
     "execution_count": 7,
     "metadata": {},
     "output_type": "execute_result"
    }
   ],
   "source": [
    "df.std()"
   ]
  },
  {
   "cell_type": "code",
   "execution_count": 8,
   "metadata": {},
   "outputs": [
    {
     "data": {
      "text/plain": [
       "ObservationDate    2020-01-02 09:03:56.0000000\n",
       "EwsProcedure                             NEWS2\n",
       "EWS_Total                                   19\n",
       "SBP                                        234\n",
       "SBP_Score                                    3\n",
       "LOC                                      VOICE\n",
       "LOC_Score                                    3\n",
       "SpO2                                       100\n",
       "SpO2_Score                                   3\n",
       "Add_O2                                    True\n",
       "Add_O2_Score                                 2\n",
       "HR                                         252\n",
       "HR_Score                                     3\n",
       "RR                                         116\n",
       "RR_Score                                     3\n",
       "TEMP                                        50\n",
       "TEMP_Score                                   3\n",
       "dtype: object"
      ]
     },
     "execution_count": 8,
     "metadata": {},
     "output_type": "execute_result"
    }
   ],
   "source": [
    "df.max()"
   ]
  },
  {
   "cell_type": "code",
   "execution_count": 9,
   "metadata": {},
   "outputs": [
    {
     "data": {
      "text/plain": [
       "ObservationDate    2019-05-01 13:27:50.0000000\n",
       "EwsProcedure                             NEWS2\n",
       "EWS_Total                                    0\n",
       "SBP                                          0\n",
       "SBP_Score                                    0\n",
       "LOC                                      ALERT\n",
       "LOC_Score                                    0\n",
       "SpO2                                         0\n",
       "SpO2_Score                                   0\n",
       "Add_O2                                   False\n",
       "Add_O2_Score                                 0\n",
       "HR                                          20\n",
       "HR_Score                                     0\n",
       "RR                                           0\n",
       "RR_Score                                     0\n",
       "TEMP                                         3\n",
       "TEMP_Score                                   0\n",
       "dtype: object"
      ]
     },
     "execution_count": 9,
     "metadata": {},
     "output_type": "execute_result"
    }
   ],
   "source": [
    "df.min()"
   ]
  },
  {
   "cell_type": "code",
   "execution_count": 10,
   "metadata": {},
   "outputs": [
    {
     "data": {
      "text/plain": [
       "EWS_Total         0.0\n",
       "SBP             107.0\n",
       "SBP_Score         0.0\n",
       "LOC_Score         0.0\n",
       "SpO2             95.0\n",
       "SpO2_Score        0.0\n",
       "Add_O2_Score      0.0\n",
       "HR               67.0\n",
       "HR_Score          0.0\n",
       "RR               16.0\n",
       "RR_Score          0.0\n",
       "TEMP             36.3\n",
       "TEMP_Score        0.0\n",
       "Name: 0.25, dtype: float64"
      ]
     },
     "execution_count": 10,
     "metadata": {},
     "output_type": "execute_result"
    }
   ],
   "source": [
    "df.quantile(0.25)"
   ]
  },
  {
   "cell_type": "code",
   "execution_count": 11,
   "metadata": {},
   "outputs": [
    {
     "data": {
      "text/plain": [
       "EWS_Total         0.00\n",
       "SBP             160.50\n",
       "SBP_Score         0.00\n",
       "LOC_Score         0.00\n",
       "SpO2            142.50\n",
       "SpO2_Score        0.00\n",
       "Add_O2_Score      0.00\n",
       "HR              100.50\n",
       "HR_Score          0.00\n",
       "RR               24.00\n",
       "RR_Score          0.00\n",
       "TEMP             54.45\n",
       "TEMP_Score        0.00\n",
       "Name: 0.25, dtype: float64"
      ]
     },
     "execution_count": 11,
     "metadata": {},
     "output_type": "execute_result"
    }
   ],
   "source": [
    "df.quantile(0.25)*1.5"
   ]
  },
  {
   "cell_type": "code",
   "execution_count": 12,
   "metadata": {},
   "outputs": [
    {
     "data": {
      "text/plain": [
       "<AxesSubplot:>"
      ]
     },
     "execution_count": 12,
     "metadata": {},
     "output_type": "execute_result"
    },
    {
     "data": {
      "image/png": "[encoded data removed]",
      "text/plain": [
       "<Figure size 720x432 with 1 Axes>"
      ]
     },
     "metadata": {
      "needs_background": "light"
     },
     "output_type": "display_data"
    }
   ],
   "source": [
    "#df.boxplot(figsize=(10,6))\n",
    "#df.plot.box(vert=False)\n",
    "df.boxplot(column=['SBP','SpO2','HR','RR','TEMP'],figsize=(10,6))"
   ]
  },
  {
   "cell_type": "code",
   "execution_count": 13,
   "metadata": {},
   "outputs": [
    {
     "data": {
      "text/plain": [
       "EWS_Total        1.160498\n",
       "SBP              0.563004\n",
       "SBP_Score        1.529286\n",
       "LOC_Score       16.074905\n",
       "SpO2           -12.013741\n",
       "SpO2_Score       2.056386\n",
       "Add_O2           1.437292\n",
       "Add_O2_Score     1.437292\n",
       "HR               0.787031\n",
       "HR_Score         2.021606\n",
       "RR               2.876129\n",
       "RR_Score         2.721991\n",
       "TEMP            -9.704415\n",
       "TEMP_Score       3.400336\n",
       "dtype: float64"
      ]
     },
     "execution_count": 13,
     "metadata": {},
     "output_type": "execute_result"
    }
   ],
   "source": [
    "df.skew()"
   ]
  },
  {
   "cell_type": "code",
   "execution_count": 14,
   "metadata": {},
   "outputs": [
    {
     "data": {
      "text/plain": [
       "EWS_Total         1.421509\n",
       "SBP               0.565477\n",
       "SBP_Score         1.367186\n",
       "LOC_Score       256.405556\n",
       "SpO2            272.120672\n",
       "SpO2_Score        3.789815\n",
       "Add_O2            0.065808\n",
       "Add_O2_Score      0.065808\n",
       "HR                1.568949\n",
       "HR_Score          4.202105\n",
       "RR               49.931818\n",
       "RR_Score          6.126448\n",
       "TEMP            623.075412\n",
       "TEMP_Score       12.379348\n",
       "dtype: float64"
      ]
     },
     "execution_count": 14,
     "metadata": {},
     "output_type": "execute_result"
    }
   ],
   "source": [
    "df.kurtosis()"
   ]
  },
  {
   "cell_type": "code",
   "execution_count": 15,
   "metadata": {},
   "outputs": [
    {
     "data": {
      "text/plain": [
       "array([[<AxesSubplot:title={'center':'EWS_Total'}>,\n",
       "        <AxesSubplot:title={'center':'SBP'}>,\n",
       "        <AxesSubplot:title={'center':'SBP_Score'}>,\n",
       "        <AxesSubplot:title={'center':'LOC_Score'}>],\n",
       "       [<AxesSubplot:title={'center':'SpO2'}>,\n",
       "        <AxesSubplot:title={'center':'SpO2_Score'}>,\n",
       "        <AxesSubplot:title={'center':'Add_O2_Score'}>,\n",
       "        <AxesSubplot:title={'center':'HR'}>],\n",
       "       [<AxesSubplot:title={'center':'HR_Score'}>,\n",
       "        <AxesSubplot:title={'center':'RR'}>,\n",
       "        <AxesSubplot:title={'center':'RR_Score'}>,\n",
       "        <AxesSubplot:title={'center':'TEMP'}>],\n",
       "       [<AxesSubplot:title={'center':'TEMP_Score'}>, <AxesSubplot:>,\n",
       "        <AxesSubplot:>, <AxesSubplot:>]], dtype=object)"
      ]
     },
     "execution_count": 15,
     "metadata": {},
     "output_type": "execute_result"
    },
    {
     "data": {
      "image/png": "[encoded data removed]",
      "text/plain": [
       "<Figure size 720x432 with 16 Axes>"
      ]
     },
     "metadata": {
      "needs_background": "light"
     },
     "output_type": "display_data"
    }
   ],
   "source": [
    "df.hist(figsize=(10,6))"
   ]
  },
  {
   "cell_type": "code",
   "execution_count": 16,
   "metadata": {},
   "outputs": [
    {
     "data": {
      "text/html": [
       "<div>\n",
       "<style scoped>\n",
       "    .dataframe tbody tr th:only-of-type {\n",
       "        vertical-align: middle;\n",
       "    }\n",
       "\n",
       "    .dataframe tbody tr th {\n",
       "        vertical-align: top;\n",
       "    }\n",
       "\n",
       "    .dataframe thead th {\n",
       "        text-align: right;\n",
       "    }\n",
       "</style>\n",
       "<table border=\"1\" class=\"dataframe\">\n",
       "  <thead>\n",
       "    <tr style=\"text-align: right;\">\n",
       "      <th></th>\n",
       "      <th>EWS_Total</th>\n",
       "      <th>SBP</th>\n",
       "      <th>SBP_Score</th>\n",
       "      <th>LOC_Score</th>\n",
       "      <th>SpO2</th>\n",
       "      <th>SpO2_Score</th>\n",
       "      <th>Add_O2_Score</th>\n",
       "      <th>HR</th>\n",
       "      <th>HR_Score</th>\n",
       "      <th>RR</th>\n",
       "      <th>RR_Score</th>\n",
       "      <th>TEMP</th>\n",
       "      <th>TEMP_Score</th>\n",
       "    </tr>\n",
       "  </thead>\n",
       "  <tbody>\n",
       "    <tr>\n",
       "      <th>EWS_Total</th>\n",
       "      <td>1.000000</td>\n",
       "      <td>-0.351369</td>\n",
       "      <td>0.452765</td>\n",
       "      <td>0.135683</td>\n",
       "      <td>-0.274494</td>\n",
       "      <td>0.495180</td>\n",
       "      <td>0.621261</td>\n",
       "      <td>0.426665</td>\n",
       "      <td>0.464483</td>\n",
       "      <td>0.394173</td>\n",
       "      <td>0.496666</td>\n",
       "      <td>0.120622</td>\n",
       "      <td>0.121473</td>\n",
       "    </tr>\n",
       "    <tr>\n",
       "      <th>SBP</th>\n",
       "      <td>-0.351369</td>\n",
       "      <td>1.000000</td>\n",
       "      <td>-0.732087</td>\n",
       "      <td>-0.009029</td>\n",
       "      <td>0.007332</td>\n",
       "      <td>-0.001378</td>\n",
       "      <td>-0.048282</td>\n",
       "      <td>-0.059962</td>\n",
       "      <td>-0.038119</td>\n",
       "      <td>-0.006608</td>\n",
       "      <td>0.000652</td>\n",
       "      <td>-0.017862</td>\n",
       "      <td>0.018561</td>\n",
       "    </tr>\n",
       "    <tr>\n",
       "      <th>SBP_Score</th>\n",
       "      <td>0.452765</td>\n",
       "      <td>-0.732087</td>\n",
       "      <td>1.000000</td>\n",
       "      <td>0.019183</td>\n",
       "      <td>0.002609</td>\n",
       "      <td>-0.010254</td>\n",
       "      <td>0.025387</td>\n",
       "      <td>0.029459</td>\n",
       "      <td>0.024532</td>\n",
       "      <td>0.000270</td>\n",
       "      <td>-0.001527</td>\n",
       "      <td>-0.014835</td>\n",
       "      <td>-0.003837</td>\n",
       "    </tr>\n",
       "    <tr>\n",
       "      <th>LOC_Score</th>\n",
       "      <td>0.135683</td>\n",
       "      <td>-0.009029</td>\n",
       "      <td>0.019183</td>\n",
       "      <td>1.000000</td>\n",
       "      <td>-0.005953</td>\n",
       "      <td>0.010546</td>\n",
       "      <td>0.020258</td>\n",
       "      <td>0.018421</td>\n",
       "      <td>0.014235</td>\n",
       "      <td>0.028876</td>\n",
       "      <td>0.033740</td>\n",
       "      <td>0.025984</td>\n",
       "      <td>0.007321</td>\n",
       "    </tr>\n",
       "    <tr>\n",
       "      <th>SpO2</th>\n",
       "      <td>-0.274494</td>\n",
       "      <td>0.007332</td>\n",
       "      <td>0.002609</td>\n",
       "      <td>-0.005953</td>\n",
       "      <td>1.000000</td>\n",
       "      <td>-0.447606</td>\n",
       "      <td>-0.160846</td>\n",
       "      <td>-0.129016</td>\n",
       "      <td>-0.084010</td>\n",
       "      <td>-0.108589</td>\n",
       "      <td>-0.049783</td>\n",
       "      <td>-0.067494</td>\n",
       "      <td>0.021476</td>\n",
       "    </tr>\n",
       "    <tr>\n",
       "      <th>SpO2_Score</th>\n",
       "      <td>0.495180</td>\n",
       "      <td>-0.001378</td>\n",
       "      <td>-0.010254</td>\n",
       "      <td>0.010546</td>\n",
       "      <td>-0.447606</td>\n",
       "      <td>1.000000</td>\n",
       "      <td>0.220045</td>\n",
       "      <td>0.105842</td>\n",
       "      <td>0.064512</td>\n",
       "      <td>0.102997</td>\n",
       "      <td>0.055378</td>\n",
       "      <td>0.083942</td>\n",
       "      <td>-0.015110</td>\n",
       "    </tr>\n",
       "    <tr>\n",
       "      <th>Add_O2_Score</th>\n",
       "      <td>0.621261</td>\n",
       "      <td>-0.048282</td>\n",
       "      <td>0.025387</td>\n",
       "      <td>0.020258</td>\n",
       "      <td>-0.160846</td>\n",
       "      <td>0.220045</td>\n",
       "      <td>1.000000</td>\n",
       "      <td>0.226129</td>\n",
       "      <td>0.151552</td>\n",
       "      <td>0.207060</td>\n",
       "      <td>0.150688</td>\n",
       "      <td>0.133511</td>\n",
       "      <td>-0.038121</td>\n",
       "    </tr>\n",
       "    <tr>\n",
       "      <th>HR</th>\n",
       "      <td>0.426665</td>\n",
       "      <td>-0.059962</td>\n",
       "      <td>0.029459</td>\n",
       "      <td>0.018421</td>\n",
       "      <td>-0.129016</td>\n",
       "      <td>0.105842</td>\n",
       "      <td>0.226129</td>\n",
       "      <td>1.000000</td>\n",
       "      <td>0.733117</td>\n",
       "      <td>0.277900</td>\n",
       "      <td>0.145996</td>\n",
       "      <td>0.243363</td>\n",
       "      <td>-0.071367</td>\n",
       "    </tr>\n",
       "    <tr>\n",
       "      <th>HR_Score</th>\n",
       "      <td>0.464483</td>\n",
       "      <td>-0.038119</td>\n",
       "      <td>0.024532</td>\n",
       "      <td>0.014235</td>\n",
       "      <td>-0.084010</td>\n",
       "      <td>0.064512</td>\n",
       "      <td>0.151552</td>\n",
       "      <td>0.733117</td>\n",
       "      <td>1.000000</td>\n",
       "      <td>0.192946</td>\n",
       "      <td>0.133098</td>\n",
       "      <td>0.154444</td>\n",
       "      <td>-0.018245</td>\n",
       "    </tr>\n",
       "    <tr>\n",
       "      <th>RR</th>\n",
       "      <td>0.394173</td>\n",
       "      <td>-0.006608</td>\n",
       "      <td>0.000270</td>\n",
       "      <td>0.028876</td>\n",
       "      <td>-0.108589</td>\n",
       "      <td>0.102997</td>\n",
       "      <td>0.207060</td>\n",
       "      <td>0.277900</td>\n",
       "      <td>0.192946</td>\n",
       "      <td>1.000000</td>\n",
       "      <td>0.571066</td>\n",
       "      <td>0.160365</td>\n",
       "      <td>-0.042711</td>\n",
       "    </tr>\n",
       "    <tr>\n",
       "      <th>RR_Score</th>\n",
       "      <td>0.496666</td>\n",
       "      <td>0.000652</td>\n",
       "      <td>-0.001527</td>\n",
       "      <td>0.033740</td>\n",
       "      <td>-0.049783</td>\n",
       "      <td>0.055378</td>\n",
       "      <td>0.150688</td>\n",
       "      <td>0.145996</td>\n",
       "      <td>0.133098</td>\n",
       "      <td>0.571066</td>\n",
       "      <td>1.000000</td>\n",
       "      <td>0.098317</td>\n",
       "      <td>-0.001629</td>\n",
       "    </tr>\n",
       "    <tr>\n",
       "      <th>TEMP</th>\n",
       "      <td>0.120622</td>\n",
       "      <td>-0.017862</td>\n",
       "      <td>-0.014835</td>\n",
       "      <td>0.025984</td>\n",
       "      <td>-0.067494</td>\n",
       "      <td>0.083942</td>\n",
       "      <td>0.133511</td>\n",
       "      <td>0.243363</td>\n",
       "      <td>0.154444</td>\n",
       "      <td>0.160365</td>\n",
       "      <td>0.098317</td>\n",
       "      <td>1.000000</td>\n",
       "      <td>-0.322956</td>\n",
       "    </tr>\n",
       "    <tr>\n",
       "      <th>TEMP_Score</th>\n",
       "      <td>0.121473</td>\n",
       "      <td>0.018561</td>\n",
       "      <td>-0.003837</td>\n",
       "      <td>0.007321</td>\n",
       "      <td>0.021476</td>\n",
       "      <td>-0.015110</td>\n",
       "      <td>-0.038121</td>\n",
       "      <td>-0.071367</td>\n",
       "      <td>-0.018245</td>\n",
       "      <td>-0.042711</td>\n",
       "      <td>-0.001629</td>\n",
       "      <td>-0.322956</td>\n",
       "      <td>1.000000</td>\n",
       "    </tr>\n",
       "  </tbody>\n",
       "</table>\n",
       "</div>"
      ],
      "text/plain": [
       "              EWS_Total       SBP  SBP_Score  LOC_Score      SpO2  SpO2_Score  \\\n",
       "EWS_Total      1.000000 -0.351369   0.452765   0.135683 -0.274494    0.495180   \n",
       "SBP           -0.351369  1.000000  -0.732087  -0.009029  0.007332   -0.001378   \n",
       "SBP_Score      0.452765 -0.732087   1.000000   0.019183  0.002609   -0.010254   \n",
       "LOC_Score      0.135683 -0.009029   0.019183   1.000000 -0.005953    0.010546   \n",
       "SpO2          -0.274494  0.007332   0.002609  -0.005953  1.000000   -0.447606   \n",
       "SpO2_Score     0.495180 -0.001378  -0.010254   0.010546 -0.447606    1.000000   \n",
       "Add_O2_Score   0.621261 -0.048282   0.025387   0.020258 -0.160846    0.220045   \n",
       "HR             0.426665 -0.059962   0.029459   0.018421 -0.129016    0.105842   \n",
       "HR_Score       0.464483 -0.038119   0.024532   0.014235 -0.084010    0.064512   \n",
       "RR             0.394173 -0.006608   0.000270   0.028876 -0.108589    0.102997   \n",
       "RR_Score       0.496666  0.000652  -0.001527   0.033740 -0.049783    0.055378   \n",
       "TEMP           0.120622 -0.017862  -0.014835   0.025984 -0.067494    0.083942   \n",
       "TEMP_Score     0.121473  0.018561  -0.003837   0.007321  0.021476   -0.015110   \n",
       "\n",
       "              Add_O2_Score        HR  HR_Score        RR  RR_Score      TEMP  \\\n",
       "EWS_Total         0.621261  0.426665  0.464483  0.394173  0.496666  0.120622   \n",
       "SBP              -0.048282 -0.059962 -0.038119 -0.006608  0.000652 -0.017862   \n",
       "SBP_Score         0.025387  0.029459  0.024532  0.000270 -0.001527 -0.014835   \n",
       "LOC_Score         0.020258  0.018421  0.014235  0.028876  0.033740  0.025984   \n",
       "SpO2             -0.160846 -0.129016 -0.084010 -0.108589 -0.049783 -0.067494   \n",
       "SpO2_Score        0.220045  0.105842  0.064512  0.102997  0.055378  0.083942   \n",
       "Add_O2_Score      1.000000  0.226129  0.151552  0.207060  0.150688  0.133511   \n",
       "HR                0.226129  1.000000  0.733117  0.277900  0.145996  0.243363   \n",
       "HR_Score          0.151552  0.733117  1.000000  0.192946  0.133098  0.154444   \n",
       "RR                0.207060  0.277900  0.192946  1.000000  0.571066  0.160365   \n",
       "RR_Score          0.150688  0.145996  0.133098  0.571066  1.000000  0.098317   \n",
       "TEMP              0.133511  0.243363  0.154444  0.160365  0.098317  1.000000   \n",
       "TEMP_Score       -0.038121 -0.071367 -0.018245 -0.042711 -0.001629 -0.322956   \n",
       "\n",
       "              TEMP_Score  \n",
       "EWS_Total       0.121473  \n",
       "SBP             0.018561  \n",
       "SBP_Score      -0.003837  \n",
       "LOC_Score       0.007321  \n",
       "SpO2            0.021476  \n",
       "SpO2_Score     -0.015110  \n",
       "Add_O2_Score   -0.038121  \n",
       "HR             -0.071367  \n",
       "HR_Score       -0.018245  \n",
       "RR             -0.042711  \n",
       "RR_Score       -0.001629  \n",
       "TEMP           -0.322956  \n",
       "TEMP_Score      1.000000  "
      ]
     },
     "execution_count": 16,
     "metadata": {},
     "output_type": "execute_result"
    }
   ],
   "source": [
    "df.corr()"
   ]
  },
  {
   "cell_type": "code",
   "execution_count": 17,
   "metadata": {},
   "outputs": [
    {
     "data": {
      "text/plain": [
       "ObservationDate        0\n",
       "EwsProcedure           0\n",
       "EWS_Total              0\n",
       "SBP                10787\n",
       "SBP_Score          10787\n",
       "LOC                    0\n",
       "LOC_Score              0\n",
       "SpO2                   2\n",
       "SpO2_Score             2\n",
       "Add_O2                 2\n",
       "Add_O2_Score           2\n",
       "HR                     0\n",
       "HR_Score               0\n",
       "RR                     0\n",
       "RR_Score               0\n",
       "TEMP                   0\n",
       "TEMP_Score             0\n",
       "dtype: int64"
      ]
     },
     "execution_count": 17,
     "metadata": {},
     "output_type": "execute_result"
    }
   ],
   "source": [
    "df.isnull().sum()"
   ]
  },
  {
   "cell_type": "code",
   "execution_count": 18,
   "metadata": {},
   "outputs": [],
   "source": [
    "df.dropna(axis=0,inplace=True)"
   ]
  },
  {
   "cell_type": "code",
   "execution_count": 19,
   "metadata": {},
   "outputs": [
    {
     "data": {
      "text/plain": [
       "ObservationDate    0\n",
       "EwsProcedure       0\n",
       "EWS_Total          0\n",
       "SBP                0\n",
       "SBP_Score          0\n",
       "LOC                0\n",
       "LOC_Score          0\n",
       "SpO2               0\n",
       "SpO2_Score         0\n",
       "Add_O2             0\n",
       "Add_O2_Score       0\n",
       "HR                 0\n",
       "HR_Score           0\n",
       "RR                 0\n",
       "RR_Score           0\n",
       "TEMP               0\n",
       "TEMP_Score         0\n",
       "dtype: int64"
      ]
     },
     "execution_count": 19,
     "metadata": {},
     "output_type": "execute_result"
    }
   ],
   "source": [
    "df.isnull().sum()"
   ]
  },
  {
   "cell_type": "code",
   "execution_count": 20,
   "metadata": {},
   "outputs": [
    {
     "data": {
      "text/plain": [
       "Index(['ObservationDate', 'EwsProcedure', 'EWS_Total', 'SBP', 'SBP_Score',\n",
       "       'LOC', 'LOC_Score', 'SpO2', 'SpO2_Score', 'Add_O2', 'Add_O2_Score',\n",
       "       'HR', 'HR_Score', 'RR', 'RR_Score', 'TEMP', 'TEMP_Score'],\n",
       "      dtype='object')"
      ]
     },
     "execution_count": 20,
     "metadata": {},
     "output_type": "execute_result"
    }
   ],
   "source": [
    "df.columns"
   ]
  },
  {
   "cell_type": "code",
   "execution_count": 21,
   "metadata": {},
   "outputs": [],
   "source": [
    "x = df[['SBP',\n",
    "       'LOC','SpO2',\n",
    "       'HR','RR', 'TEMP']].values"
   ]
  },
  {
   "cell_type": "code",
   "execution_count": 22,
   "metadata": {},
   "outputs": [],
   "source": [
    "y = df[['EWS_Total']].values"
   ]
  },
  {
   "cell_type": "code",
   "execution_count": 23,
   "metadata": {},
   "outputs": [
    {
     "data": {
      "text/plain": [
       "array([ 0,  1,  2,  3,  6,  7,  5,  4,  9, 10,  8, 12, 19, 13, 11, 14, 15],\n",
       "      dtype=int64)"
      ]
     },
     "execution_count": 23,
     "metadata": {},
     "output_type": "execute_result"
    }
   ],
   "source": [
    "df['EWS_Total'].unique()"
   ]
  },
  {
   "cell_type": "code",
   "execution_count": 24,
   "metadata": {},
   "outputs": [],
   "source": [
    "from sklearn.compose import ColumnTransformer\n",
    "from sklearn.preprocessing import OneHotEncoder"
   ]
  },
  {
   "cell_type": "code",
   "execution_count": 25,
   "metadata": {},
   "outputs": [],
   "source": [
    "ct = ColumnTransformer(transformers=[('encoder',\n",
    "                                     OneHotEncoder(),\n",
    "                                     [1])],\n",
    "                                     remainder='passthrough')"
   ]
  },
  {
   "cell_type": "code",
   "execution_count": 26,
   "metadata": {},
   "outputs": [],
   "source": [
    "x = np.array(ct.fit_transform(x))"
   ]
  },
  {
   "cell_type": "code",
   "execution_count": 27,
   "metadata": {},
   "outputs": [
    {
     "data": {
      "text/plain": [
       "array([1.0, 0.0, 0.0, 0.0, 0.0, 143.0, 96.0, 80, 18, 36.6], dtype=object)"
      ]
     },
     "execution_count": 27,
     "metadata": {},
     "output_type": "execute_result"
    }
   ],
   "source": [
    "x[0]"
   ]
  },
  {
   "cell_type": "code",
   "execution_count": 28,
   "metadata": {},
   "outputs": [],
   "source": [
    "from sklearn.model_selection import train_test_split"
   ]
  },
  {
   "cell_type": "code",
   "execution_count": 29,
   "metadata": {},
   "outputs": [],
   "source": [
    "x_train,x_test,y_train,y_test = train_test_split(x,y,test_size=0.3,random_state=0)"
   ]
  },
  {
   "cell_type": "code",
   "execution_count": 30,
   "metadata": {},
   "outputs": [],
   "source": [
    "from sklearn.preprocessing import StandardScaler"
   ]
  },
  {
   "cell_type": "code",
   "execution_count": 31,
   "metadata": {},
   "outputs": [],
   "source": [
    "sc = StandardScaler()"
   ]
  },
  {
   "cell_type": "code",
   "execution_count": 32,
   "metadata": {},
   "outputs": [],
   "source": [
    "x_train[:,5:] = sc.fit_transform(x_train[:,5:])\n",
    "x_test[:,5:] = sc.fit_transform(x_test[:,5:])"
   ]
  },
  {
   "cell_type": "code",
   "execution_count": 33,
   "metadata": {},
   "outputs": [],
   "source": [
    "from sklearn import model_selection\n",
    "from sklearn.linear_model import LogisticRegression\n",
    "from sklearn.tree import DecisionTreeClassifier\n",
    "from sklearn.neighbors import KNeighborsClassifier\n",
    "from sklearn.discriminant_analysis import LinearDiscriminantAnalysis\n",
    "from sklearn.naive_bayes import GaussianNB\n",
    "from sklearn.svm import SVC\n",
    "from sklearn.ensemble import RandomForestClassifier\n",
    "# prepare models"
   ]
  },
  {
   "cell_type": "code",
   "execution_count": 34,
   "metadata": {},
   "outputs": [],
   "source": [
    "#Using seed to maintain reproducability and consistent results\n",
    "seed = 7\n",
    "models = []\n",
    "models.append(('LR', LogisticRegression()))\n",
    "models.append(('LDA', LinearDiscriminantAnalysis()))\n",
    "models.append(('KNN', KNeighborsClassifier()))\n",
    "models.append(('CART', DecisionTreeClassifier()))\n",
    "models.append(('NB', GaussianNB()))\n",
    "models.append(('RFC', RandomForestClassifier()))"
   ]
  },
  {
   "cell_type": "code",
   "execution_count": 35,
   "metadata": {},
   "outputs": [
    {
     "name": "stdout",
     "output_type": "stream",
     "text": [
      "LR: 0.401404 (0.003383)\n",
      "LDA: 0.394827 (0.002531)\n",
      "KNN: 0.618682 (0.003671)\n",
      "CART: 0.639524 (0.003821)\n",
      "NB: 0.405984 (0.003751)\n",
      "RFC: 0.728870 (0.004250)\n"
     ]
    }
   ],
   "source": [
    "# evaluate each model in turn\n",
    "results = []\n",
    "names = []\n",
    "scoring = 'accuracy'\n",
    "import warnings\n",
    "warnings.filterwarnings(\"ignore\")\n",
    "for name, model in models:\n",
    "    kfold = model_selection.KFold(n_splits=10, random_state=seed)\n",
    "    cv_results = model_selection.cross_val_score(model, x_train, y_train,\n",
    "    cv=kfold, scoring=scoring)\n",
    "    results.append(cv_results)\n",
    "    names.append(name)\n",
    "    msg = \"%s: %f (%f)\" % (name, cv_results.mean(), cv_results.std())\n",
    "    print(msg)"
   ]
  },
  {
   "cell_type": "code",
   "execution_count": null,
   "metadata": {},
   "outputs": [],
   "source": []
  },
  {
   "cell_type": "code",
   "execution_count": null,
   "metadata": {},
   "outputs": [],
   "source": []
  },
  {
   "cell_type": "code",
   "execution_count": null,
   "metadata": {},
   "outputs": [],
   "source": []
  },
  {
   "cell_type": "code",
   "execution_count": null,
   "metadata": {},
   "outputs": [],
   "source": []
  },
  {
   "cell_type": "code",
   "execution_count": null,
   "metadata": {},
   "outputs": [],
   "source": [
    "x_train"
   ]
  },
  {
   "cell_type": "code",
   "execution_count": null,
   "metadata": {},
   "outputs": [],
   "source": [
    "from sklearn.linear_model import LinearRegression"
   ]
  },
  {
   "cell_type": "code",
   "execution_count": null,
   "metadata": {},
   "outputs": [],
   "source": [
    "lr = LinearRegression()"
   ]
  },
  {
   "cell_type": "code",
   "execution_count": null,
   "metadata": {},
   "outputs": [],
   "source": [
    "lr.fit(x_train,y_train)"
   ]
  },
  {
   "cell_type": "code",
   "execution_count": null,
   "metadata": {},
   "outputs": [],
   "source": [
    "y_pred = lr.predict(x_test)"
   ]
  },
  {
   "cell_type": "code",
   "execution_count": null,
   "metadata": {},
   "outputs": [],
   "source": [
    "np.set_printoptions(precision=2)"
   ]
  },
  {
   "cell_type": "code",
   "execution_count": null,
   "metadata": {},
   "outputs": [],
   "source": [
    "y_pred"
   ]
  },
  {
   "cell_type": "code",
   "execution_count": null,
   "metadata": {},
   "outputs": [],
   "source": [
    "y_test"
   ]
  },
  {
   "cell_type": "code",
   "execution_count": null,
   "metadata": {},
   "outputs": [],
   "source": [
    "np.concatenate((np.ceil(y_pred.reshape(len(y_pred),1)),\n",
    "               y_test.reshape(len(y_test), 1)),1)"
   ]
  },
  {
   "cell_type": "code",
   "execution_count": null,
   "metadata": {},
   "outputs": [],
   "source": [
    "from sklearn.metrics import r2_score\n",
    "r2_score(y_test, y_pred)"
   ]
  },
  {
   "cell_type": "code",
   "execution_count": null,
   "metadata": {},
   "outputs": [],
   "source": [
    "import matplotlib\n",
    "data = matplotlib.dates.date2num(df['ObservationDate'])"
   ]
  },
  {
   "cell_type": "code",
   "execution_count": null,
   "metadata": {},
   "outputs": [],
   "source": [
    "plt.plot_date(data,df.EWS_Total)"
   ]
  },
  {
   "cell_type": "markdown",
   "metadata": {},
   "source": [
    "### DecisionTreeRegression"
   ]
  },
  {
   "cell_type": "code",
   "execution_count": null,
   "metadata": {},
   "outputs": [],
   "source": [
    "from sklearn.tree import DecisionTreeRegressor"
   ]
  },
  {
   "cell_type": "code",
   "execution_count": null,
   "metadata": {},
   "outputs": [],
   "source": [
    "regressor = DecisionTreeRegressor(random_state=0)"
   ]
  },
  {
   "cell_type": "code",
   "execution_count": null,
   "metadata": {},
   "outputs": [],
   "source": [
    "regressor.fit(x_train,y_train)"
   ]
  },
  {
   "cell_type": "code",
   "execution_count": null,
   "metadata": {},
   "outputs": [],
   "source": [
    "y_predD = regressor.predict(x_test)"
   ]
  },
  {
   "cell_type": "code",
   "execution_count": null,
   "metadata": {},
   "outputs": [],
   "source": [
    "np.concatenate((np.ceil(y_predD.reshape(len(y_pred),1)),\n",
    "               y_test.reshape(len(y_test), 1)),1)"
   ]
  },
  {
   "cell_type": "code",
   "execution_count": null,
   "metadata": {},
   "outputs": [],
   "source": [
    "from sklearn.metrics import r2_score\n",
    "r2_score(y_test, y_predD)"
   ]
  },
  {
   "cell_type": "markdown",
   "metadata": {},
   "source": [
    "### Random Forest Regression"
   ]
  },
  {
   "cell_type": "code",
   "execution_count": null,
   "metadata": {},
   "outputs": [],
   "source": [
    "from sklearn.ensemble import RandomForestRegressor"
   ]
  },
  {
   "cell_type": "code",
   "execution_count": null,
   "metadata": {},
   "outputs": [],
   "source": [
    "regr = RandomForestRegressor(n_estimators=10, random_state=0)"
   ]
  },
  {
   "cell_type": "code",
   "execution_count": null,
   "metadata": {},
   "outputs": [],
   "source": [
    "regr.fit(x_train,y_train.ravel())"
   ]
  },
  {
   "cell_type": "code",
   "execution_count": null,
   "metadata": {},
   "outputs": [],
   "source": [
    "y_predR = regr.predict(x_test)"
   ]
  },
  {
   "cell_type": "code",
   "execution_count": null,
   "metadata": {},
   "outputs": [],
   "source": [
    "np.concatenate((np.ceil(y_predR.reshape(len(y_pred),1)),\n",
    "               y_test.reshape(len(y_test), 1)),1)"
   ]
  },
  {
   "cell_type": "code",
   "execution_count": null,
   "metadata": {},
   "outputs": [],
   "source": [
    "plt.scatter(x[:,-3],y)\n",
    "plt.plot(x[])"
   ]
  },
  {
   "cell_type": "code",
   "execution_count": null,
   "metadata": {},
   "outputs": [],
   "source": [
    "from sklearn.metrics import r2_score\n",
    "r2_score(y_test, y_predR)"
   ]
  },
  {
   "cell_type": "markdown",
   "metadata": {},
   "source": [
    "### Naive Bayes"
   ]
  },
  {
   "cell_type": "code",
   "execution_count": null,
   "metadata": {},
   "outputs": [],
   "source": [
    "from sklearn.naive_bayes import GaussianNB"
   ]
  },
  {
   "cell_type": "code",
   "execution_count": null,
   "metadata": {},
   "outputs": [],
   "source": [
    "nb = GaussianNB()"
   ]
  },
  {
   "cell_type": "code",
   "execution_count": null,
   "metadata": {},
   "outputs": [],
   "source": [
    "model = nb.fit(x_train,y_train.ravel())"
   ]
  },
  {
   "cell_type": "code",
   "execution_count": null,
   "metadata": {},
   "outputs": [],
   "source": [
    "y_predN = model.predict(x_test)"
   ]
  },
  {
   "cell_type": "code",
   "execution_count": null,
   "metadata": {},
   "outputs": [],
   "source": [
    "np.concatenate((np.ceil(y_predN.reshape(len(y_pred),1)),\n",
    "               y_test.reshape(len(y_test), 1)),1)"
   ]
  },
  {
   "cell_type": "code",
   "execution_count": null,
   "metadata": {},
   "outputs": [],
   "source": [
    "from sklearn.metrics import r2_score\n",
    "r2_score(y_test, y_predN)"
   ]
  }
 ],
 "metadata": {
  "kernelspec": {
   "display_name": "Python 3",
   "language": "python",
   "name": "python3"
  },
  "language_info": {
   "codemirror_mode": {
    "name": "ipython",
    "version": 3
   },
   "file_extension": ".py",
   "mimetype": "text/x-python",
   "name": "python",
   "nbconvert_exporter": "python",
   "pygments_lexer": "ipython3",
   "version": "3.8.6"
  }
 },
 "nbformat": 4,
 "nbformat_minor": 4
}
